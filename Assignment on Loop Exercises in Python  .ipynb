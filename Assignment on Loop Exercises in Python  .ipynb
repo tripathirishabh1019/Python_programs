{
 "cells": [
  {
   "cell_type": "markdown",
   "id": "6d6237df",
   "metadata": {},
   "source": [
    "# 1.\tTo display the Factorial of a number. "
   ]
  },
  {
   "cell_type": "code",
   "execution_count": 9,
   "id": "de8e3286",
   "metadata": {},
   "outputs": [
    {
     "name": "stdout",
     "output_type": "stream",
     "text": [
      "enter the number :5\n"
     ]
    },
    {
     "ename": "TypeError",
     "evalue": "'int' object is not callable",
     "output_type": "error",
     "traceback": [
      "\u001b[1;31m---------------------------------------------------------------------------\u001b[0m",
      "\u001b[1;31mTypeError\u001b[0m                                 Traceback (most recent call last)",
      "Cell \u001b[1;32mIn[9], line 10\u001b[0m\n\u001b[0;32m      8\u001b[0m \u001b[38;5;28;01mfor\u001b[39;00m i \u001b[38;5;129;01min\u001b[39;00m \u001b[38;5;28mrange\u001b[39m(\u001b[38;5;241m1\u001b[39m,num\u001b[38;5;241m+\u001b[39m\u001b[38;5;241m1\u001b[39m):\n\u001b[0;32m      9\u001b[0m     facrorial \u001b[38;5;241m=\u001b[39m factorial\u001b[38;5;241m*\u001b[39m\u001b[38;5;241m1\u001b[39m\n\u001b[1;32m---> 10\u001b[0m \u001b[38;5;28mprint\u001b[39m(\u001b[38;5;124m\"\u001b[39m\u001b[38;5;124m the factorial of \u001b[39m\u001b[38;5;124m\"\u001b[39m,num,\u001b[38;5;124m\"\u001b[39m\u001b[38;5;124mis\u001b[39m\u001b[38;5;124m\"\u001b[39m,factorial(num))\n",
      "\u001b[1;31mTypeError\u001b[0m: 'int' object is not callable"
     ]
    }
   ],
   "source": [
    "num = int(input(\"enter the number :\"))\n",
    "factorial = 1\n",
    "if num<0:\n",
    "    print(\"factorial does not exist of  a number \")\n",
    "elif num == 0:\n",
    "    print(' the factorial is 1' )\n",
    "else:\n",
    "    for i in range(1,num+1):\n",
    "        facrorial = factorial*1\n",
    "    print(\" the factorial of \",num,\"is\",factorial(num))"
   ]
  },
  {
   "cell_type": "markdown",
   "id": "a831f2bb",
   "metadata": {},
   "source": [
    "# 2.\tTo reverse a word."
   ]
  },
  {
   "cell_type": "code",
   "execution_count": 1,
   "id": "c07096a6",
   "metadata": {},
   "outputs": [
    {
     "name": "stdout",
     "output_type": "stream",
     "text": [
      "code practice quiz geeks\n"
     ]
    }
   ],
   "source": [
    "string = \"geeks quiz practice code\"\n",
    "stack = []\n",
    "for word in string.split():\n",
    "    stack.append(word)\n",
    "\n",
    "\n",
    "reversed_words = []\n",
    "while stack:\n",
    "    reversed_words.append(stack.pop())\n",
    "reversed_string = \" \".join(reversed_words)\n",
    "print(reversed_string)\n"
   ]
  },
  {
   "cell_type": "markdown",
   "id": "f065695c",
   "metadata": {},
   "source": [
    "# 3.\tTo reverse a number."
   ]
  },
  {
   "cell_type": "code",
   "execution_count": 4,
   "id": "126e23bf",
   "metadata": {
    "scrolled": true
   },
   "outputs": [
    {
     "name": "stdout",
     "output_type": "stream",
     "text": [
      "2654\n"
     ]
    }
   ],
   "source": [
    "\n",
    "\n",
    "n = 4562\n",
    "rev = 0\n",
    "\n",
    "while(n > 0): \n",
    "    a = n % 10\n",
    "    rev = rev * 10 + a \n",
    "    n = n // 10\n",
    "\n",
    "print(rev) \n",
    "\n",
    "\n"
   ]
  },
  {
   "cell_type": "markdown",
   "id": "f3830b5a",
   "metadata": {},
   "source": [
    "# 4.\tTo print n natural number in descending order using a while loop"
   ]
  },
  {
   "cell_type": "code",
   "execution_count": 4,
   "id": "08a88b73",
   "metadata": {},
   "outputs": [
    {
     "name": "stdout",
     "output_type": "stream",
     "text": [
      "Enter the number of natural numbers to print: 9\n",
      "9\n",
      "8\n",
      "7\n",
      "6\n",
      "5\n",
      "4\n",
      "3\n",
      "2\n",
      "1\n"
     ]
    }
   ],
   "source": [
    "def print_natural_numbers(n):\n",
    "    i = n\n",
    "    while i > 0:\n",
    "        print(i)\n",
    "        i -= 1\n",
    "\n",
    "n = int(input(\"Enter the number of natural numbers to print: \"))\n",
    "print_natural_numbers(n)\n"
   ]
  },
  {
   "cell_type": "markdown",
   "id": "f7b70078",
   "metadata": {},
   "source": [
    "# 5.\tTo display the first 7 multiples of 7. "
   ]
  },
  {
   "cell_type": "code",
   "execution_count": 11,
   "id": "c8514149",
   "metadata": {},
   "outputs": [
    {
     "name": "stdout",
     "output_type": "stream",
     "text": [
      "7\n",
      "14\n",
      "21\n",
      "28\n",
      "35\n",
      "42\n"
     ]
    }
   ],
   "source": [
    "for i in range(1, 8):\n",
    "    print(i * 7) "
   ]
  },
  {
   "cell_type": "markdown",
   "id": "cd9b8153",
   "metadata": {},
   "source": [
    "# 6.That appends the square of each number to a new list."
   ]
  },
  {
   "cell_type": "code",
   "execution_count": 12,
   "id": "1ba11d30",
   "metadata": {},
   "outputs": [
    {
     "name": "stdout",
     "output_type": "stream",
     "text": [
      "[1, 4, 9, 16, 25, 36, 49]\n"
     ]
    }
   ],
   "source": [
    "\n",
    "squares = []\n",
    "for i in range(1, 8):\n",
    "    square = i ** 2\n",
    "    squares.append(square)\n",
    "print(squares)"
   ]
  },
  {
   "cell_type": "markdown",
   "id": "3857f00b",
   "metadata": {},
   "source": [
    "# 7.\tTo separate positive and negative number from a list. "
   ]
  },
  {
   "cell_type": "code",
   "execution_count": 1,
   "id": "3261df65",
   "metadata": {},
   "outputs": [
    {
     "name": "stdout",
     "output_type": "stream",
     "text": [
      "Positive numbers:  [34, 16, 23]\n",
      "Negative numbers:  [-25, -9, -30]\n"
     ]
    }
   ],
   "source": [
    "def separate_positive_negative(lst):\n",
    "    positive = []\n",
    "    negative = []\n",
    "    for i in lst:\n",
    "        if i > 0:\n",
    "            positive.append(i)\n",
    "        elif i < 0:\n",
    "            negative.append(i)\n",
    "    return positive, negative\n",
    "\n",
    "lst = [34, -25, 16, -9, 23, -30]\n",
    "positive, negative = separate_positive_negative(lst)\n",
    "print(\"Positive numbers: \", positive)\n",
    "print(\"Negative numbers: \", negative)"
   ]
  },
  {
   "cell_type": "markdown",
   "id": "2131b8dd",
   "metadata": {},
   "source": [
    "# 8.\tthat appends the type of elements from a list."
   ]
  },
  {
   "cell_type": "code",
   "execution_count": 2,
   "id": "ed7c4b17",
   "metadata": {},
   "outputs": [
    {
     "name": "stdout",
     "output_type": "stream",
     "text": [
      "[4, 5, 6, 8, 4, 3, 6, 'mango']\n"
     ]
    }
   ],
   "source": [
    "x=[4,5,6,8,4,3,6,]\n",
    "x.append(\"mango\")\n",
    "print(x)"
   ]
  },
  {
   "cell_type": "markdown",
   "id": "d0b11ed8",
   "metadata": {},
   "source": [
    "# 9.\tTo filter even and odd number from a list."
   ]
  },
  {
   "cell_type": "code",
   "execution_count": 5,
   "id": "08debbc9",
   "metadata": {},
   "outputs": [
    {
     "name": "stdout",
     "output_type": "stream",
     "text": [
      "Even Numbers: [2, 4, 6, 8, 10]\n",
      "Odd Numbers: [1, 3, 5, 7, 9]\n"
     ]
    }
   ],
   "source": [
    "num_list = [1, 2, 3, 4, 5, 6, 7, 8, 9, 10]\n",
    "\n",
    "even_nums = [num for num in num_list \n",
    "             if num % 2 == 0]\n",
    "odd_nums = [num for num in num_list \n",
    "            if num % 2 != 0]\n",
    "\n",
    "print(\"Even Numbers:\", even_nums)\n",
    "print(\"Odd Numbers:\", odd_nums)"
   ]
  },
  {
   "cell_type": "markdown",
   "id": "a57b6822",
   "metadata": {},
   "source": [
    "# 10.\tTo fetch only even values from a dictionary. "
   ]
  },
  {
   "cell_type": "code",
   "execution_count": 6,
   "id": "84d6d4d5",
   "metadata": {},
   "outputs": [
    {
     "name": "stdout",
     "output_type": "stream",
     "text": [
      "{1: 2, 3: 4, 5: 6}\n"
     ]
    }
   ],
   "source": [
    "def filter_even_values(dictionary):\n",
    "\n",
    "    filtered_dict = {key: value for key, value in dictionary.items() if value % 2 == 0}\n",
    "    return filtered_dict\n",
    "dictionary = {1: 2, 2: 3, 3: 4, 4: 5, 5: 6}\n",
    "filtered_dict = filter_even_values(dictionary)\n",
    "print(filtered_dict)"
   ]
  },
  {
   "cell_type": "code",
   "execution_count": null,
   "id": "d5da8644",
   "metadata": {},
   "outputs": [],
   "source": []
  }
 ],
 "metadata": {
  "kernelspec": {
   "display_name": "Python 3 (ipykernel)",
   "language": "python",
   "name": "python3"
  },
  "language_info": {
   "codemirror_mode": {
    "name": "ipython",
    "version": 3
   },
   "file_extension": ".py",
   "mimetype": "text/x-python",
   "name": "python",
   "nbconvert_exporter": "python",
   "pygments_lexer": "ipython3",
   "version": "3.11.5"
  }
 },
 "nbformat": 4,
 "nbformat_minor": 5
}
