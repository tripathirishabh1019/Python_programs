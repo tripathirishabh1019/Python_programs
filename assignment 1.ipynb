{
 "cells": [
  {
   "cell_type": "markdown",
   "id": "ad3a33c0",
   "metadata": {},
   "source": [
    "#  Q1.\tPython program to interchange first and last elements in a list"
   ]
  },
  {
   "cell_type": "code",
   "execution_count": 13,
   "id": "b265d2be",
   "metadata": {},
   "outputs": [
    {
     "name": "stdout",
     "output_type": "stream",
     "text": [
      "[24, 35, 9, 56, 12]\n"
     ]
    }
   ],
   "source": [
    "# program to swap first\n",
    "# and last element of a list\n",
    "\n",
    "# Swap function\n",
    "def swapList(newList):\n",
    "    size=len(newList)\n",
    "\n",
    "# Swapping \n",
    "    temp = newList[0]\n",
    "    newList[0] = newList[size - 1]\n",
    "    newList[size - 1] = temp\n",
    "\n",
    "    return newList\n",
    "\n",
    "\n",
    "newList = [12, 35, 9, 56, 24]\n",
    "\n",
    "print(swapList(newList))\n"
   ]
  },
  {
   "cell_type": "markdown",
   "id": "0ce9c08c",
   "metadata": {},
   "source": [
    "# Q2.Python program to swap two elements in a list "
   ]
  },
  {
   "cell_type": "code",
   "execution_count": 16,
   "id": "1e8b94aa",
   "metadata": {},
   "outputs": [
    {
     "name": "stdout",
     "output_type": "stream",
     "text": [
      "[19, 65, 23, 90]\n"
     ]
    }
   ],
   "source": [
    "# at given positions\n",
    "\n",
    "# Swap function\n",
    "def swapPositions(list, pos1, pos2):\n",
    "\n",
    "    list[pos1], list[pos2] = list[pos2], list[pos1]\n",
    "    return list\n",
    "\n",
    "# Driver function\n",
    "List = [23, 65, 19, 90]\n",
    "pos1, pos2 = 1, 3\n",
    "\n",
    "print(swapPositions(List, pos1-1, pos2-1))\n"
   ]
  },
  {
   "cell_type": "markdown",
   "id": "77bc7c09",
   "metadata": {},
   "source": [
    "# Q3.\tPython – Swap elements in String list "
   ]
  },
  {
   "cell_type": "code",
   "execution_count": 17,
   "id": "86846be3",
   "metadata": {},
   "outputs": [
    {
     "name": "stdout",
     "output_type": "stream",
     "text": [
      "['banana', 'watermelon', 'orange', 'apple', 'mango']\n"
     ]
    }
   ],
   "source": [
    "# Swap function\n",
    "def swapList(fruits):\n",
    "    size=len(fruits)\n",
    "\n",
    "# Swapping \n",
    "    temp = fruits[0]\n",
    "    fruits[0] = fruits[size - 1]\n",
    "    fruits[size - 1] = temp\n",
    "\n",
    "    return fruits\n",
    "\n",
    "\n",
    "fruits = [\"mango\",\"watermelon\",\"orange\",\"apple\",\"banana\"]\n",
    "\n",
    "print(swapList(fruits))"
   ]
  },
  {
   "cell_type": "markdown",
   "id": "74c13059",
   "metadata": {},
   "source": [
    "# Q4.\tPython | Ways to find length of list"
   ]
  },
  {
   "cell_type": "code",
   "execution_count": 18,
   "id": "1723d2d6",
   "metadata": {},
   "outputs": [
    {
     "name": "stdout",
     "output_type": "stream",
     "text": [
      "6\n"
     ]
    }
   ],
   "source": [
    "#length of list\n",
    "\n",
    "list=[78,90,45,30,20,33]\n",
    "d=len(list)\n",
    "print(d)"
   ]
  },
  {
   "cell_type": "markdown",
   "id": "17acaa9a",
   "metadata": {},
   "source": [
    "# Q5.\tMaximum of two numbers in Python"
   ]
  },
  {
   "cell_type": "code",
   "execution_count": 19,
   "id": "73e0b99a",
   "metadata": {},
   "outputs": [
    {
     "name": "stdout",
     "output_type": "stream",
     "text": [
      "6\n"
     ]
    }
   ],
   "source": [
    "a=6\n",
    "b=5\n",
    "maximum=max(a,b)\n",
    "print(maximum)"
   ]
  },
  {
   "cell_type": "markdown",
   "id": "e582998b",
   "metadata": {},
   "source": [
    "# Q6.\tMinimum of two numbers in Python "
   ]
  },
  {
   "cell_type": "code",
   "execution_count": 20,
   "id": "36db752a",
   "metadata": {},
   "outputs": [
    {
     "name": "stdout",
     "output_type": "stream",
     "text": [
      "67\n"
     ]
    }
   ],
   "source": [
    "a=90\n",
    "b=67\n",
    "minimum=min(a,b)\n",
    "print(minimum)"
   ]
  },
  {
   "cell_type": "markdown",
   "id": "85618448",
   "metadata": {},
   "source": [
    "# Q7.\tPython | Ways to check if element exists in list "
   ]
  },
  {
   "cell_type": "code",
   "execution_count": 6,
   "id": "627e8d44",
   "metadata": {},
   "outputs": [
    {
     "name": "stdout",
     "output_type": "stream",
     "text": [
      "ENTER exist NO.3\n",
      "exist\n"
     ]
    }
   ],
   "source": [
    "lst=[ 1, 6, 3, 5, 3, 4 ] \n",
    "i=float(input(\"ENTER exist NO.\"))\n",
    "if i in lst:\n",
    "    print(\"exist\") \n",
    "else:\n",
    "    print(\"not exist\")\n"
   ]
  },
  {
   "cell_type": "markdown",
   "id": "8bc17da2",
   "metadata": {},
   "source": [
    "# Q8.\tDifferent ways to clear a list in Python "
   ]
  },
  {
   "cell_type": "code",
   "execution_count": 24,
   "id": "31a7ac51",
   "metadata": {},
   "outputs": [
    {
     "name": "stdout",
     "output_type": "stream",
     "text": [
      "GEEK before clear: [6, 0, 4, 1]\n",
      "GEEK after clear: []\n"
     ]
    }
   ],
   "source": [
    "LIST = [6, 0, 4, 1]\n",
    "print('GEEK before clear:', LIST)\n",
    "\n",
    "# Clearing list\n",
    "LIST.clear()\n",
    "print('GEEK after clear:', LIST)\n"
   ]
  },
  {
   "cell_type": "markdown",
   "id": "6db992b5",
   "metadata": {},
   "source": [
    "# Q9.\tPython | Reversing a List"
   ]
  },
  {
   "cell_type": "code",
   "execution_count": 8,
   "id": "335fb059",
   "metadata": {},
   "outputs": [
    {
     "name": "stdout",
     "output_type": "stream",
     "text": [
      "[45, 78, 90, 46, 32]\n"
     ]
    }
   ],
   "source": [
    "LIST = [45,78,90,46,32]\n",
    "print(LIST)"
   ]
  },
  {
   "cell_type": "code",
   "execution_count": 26,
   "id": "bd4c6ab0",
   "metadata": {},
   "outputs": [
    {
     "name": "stdout",
     "output_type": "stream",
     "text": [
      "[32, 46, 90, 78, 45]\n"
     ]
    }
   ],
   "source": [
    "LIST.reverse()\n",
    "print(LIST)"
   ]
  },
  {
   "cell_type": "markdown",
   "id": "01044e09",
   "metadata": {},
   "source": [
    "# Q10.\tPython | Cloning or Copying a list"
   ]
  },
  {
   "cell_type": "code",
   "execution_count": 13,
   "id": "481eb6a9",
   "metadata": {},
   "outputs": [
    {
     "name": "stdout",
     "output_type": "stream",
     "text": [
      "Original List: [4, 8, 2, 10, 15, 18]\n",
      "After Cloning: [4, 8, 2, 10, 15, 18]\n"
     ]
    }
   ],
   "source": [
    "# Python program to copy or clone a list\n",
    "# Using the Slice Operator\n",
    "def Cloning(li1):\n",
    "    li_copy = li1[:]\n",
    "    return li_copy\n",
    "\n",
    "\n",
    "# Driver Code\n",
    "li1 = [4, 8, 2, 10, 15, 18]\n",
    "li2 = li1.copy()\n",
    "print(\"Original List:\", li1)\n",
    "print(\"After Cloning:\", li2)\n"
   ]
  },
  {
   "cell_type": "markdown",
   "id": "9475a27d",
   "metadata": {},
   "source": [
    "# Q11.\tPython | Count occurrences of an element in a list "
   ]
  },
  {
   "cell_type": "code",
   "execution_count": 3,
   "id": "320f7389",
   "metadata": {},
   "outputs": [
    {
     "name": "stdout",
     "output_type": "stream",
     "text": [
      "8 has occurred 5 times\n"
     ]
    }
   ],
   "source": [
    "# Python code to count the number of occurrences\n",
    "def countX(lst, x):\n",
    "    count = 0\n",
    "    for ele in lst:\n",
    "        if (ele == x):\n",
    "            count = count + 1\n",
    "    return count\n",
    "\n",
    "\n",
    "# Driver Code\n",
    "lst = [8, 6, 8, 10, 8, 20, 10, 8, 8]\n",
    "x = 8\n",
    "print('{} has occurred {} times'.format(x,\n",
    "                                        countX(lst, x)))\n"
   ]
  },
  {
   "cell_type": "markdown",
   "id": "011d66c0",
   "metadata": {},
   "source": [
    "# Q12.\tPython Program to find sum and average of List in Python "
   ]
  },
  {
   "cell_type": "code",
   "execution_count": 5,
   "id": "849e1100",
   "metadata": {},
   "outputs": [
    {
     "name": "stdout",
     "output_type": "stream",
     "text": [
      "sum =  46\n",
      "average =  5.75\n"
     ]
    }
   ],
   "source": [
    "L = [4, 5, 1, 2, 9, 7, 10, 8]\n",
    "\n",
    "count = 0\n",
    "\n",
    "for i in L:\n",
    "    count += i\n",
    "\n",
    "\n",
    "avg = count/len(L)\n",
    "\n",
    "print(\"sum = \", count)\n",
    "print(\"average = \", avg)\n"
   ]
  },
  {
   "cell_type": "markdown",
   "id": "c02d1ea9",
   "metadata": {},
   "source": [
    "# Q13.Python | Sum of number digits in List"
   ]
  },
  {
   "cell_type": "code",
   "execution_count": 6,
   "id": "e769bc02",
   "metadata": {},
   "outputs": [
    {
     "name": "stdout",
     "output_type": "stream",
     "text": [
      "The original list is : [12, 67, 98, 34]\n",
      "List Integer Summation : [3, 13, 17, 7]\n"
     ]
    }
   ],
   "source": [
    "\n",
    "test_list = [12, 67, 98, 34]\n",
    "\n",
    "print(\"The original list is : \" + str(test_list))\n",
    "\n",
    "\n",
    "res = []\n",
    "for ele in test_list:\n",
    "    sum = 0\n",
    "    for digit in str(ele):\n",
    "        sum += int(digit)\n",
    "    res.append(sum)\n",
    "\n",
    "\n",
    "print (\"List Integer Summation : \" + str(res))\n"
   ]
  },
  {
   "cell_type": "markdown",
   "id": "7a2d1e55",
   "metadata": {},
   "source": [
    "# Q14.Python | Multiply all numbers in the list"
   ]
  },
  {
   "cell_type": "code",
   "execution_count": 7,
   "id": "b13ec53f",
   "metadata": {},
   "outputs": [
    {
     "name": "stdout",
     "output_type": "stream",
     "text": [
      "6\n",
      "24\n"
     ]
    }
   ],
   "source": [
    "\n",
    "\n",
    "def multiplyList(myList) :\n",
    "    result = 1\n",
    "    for i in range(0,len(myList)):\n",
    "        result = result * myList[i]\n",
    "    return result\n",
    "\n",
    "list1 = [1, 2, 3]\n",
    "list2 = [3, 2, 4]\n",
    "print(multiplyList(list1))\n",
    "print(multiplyList(list2))\n"
   ]
  },
  {
   "cell_type": "markdown",
   "id": "f980265c",
   "metadata": {},
   "source": [
    "# Q15.Python program to find smallest number in a list"
   ]
  },
  {
   "cell_type": "code",
   "execution_count": 8,
   "id": "eef72121",
   "metadata": {},
   "outputs": [
    {
     "name": "stdout",
     "output_type": "stream",
     "text": [
      "Smallest element is: 1\n"
     ]
    }
   ],
   "source": [
    "# Python program to find smallest \n",
    "# number in a list\n",
    "\n",
    "# list of numbers\n",
    "list1 = [10, 20, 1, 45, 99]\n",
    "\n",
    "\n",
    "# printing the minimum element\n",
    "print(\"Smallest element is:\", min(list1))\n"
   ]
  },
  {
   "cell_type": "markdown",
   "id": "ed377ada",
   "metadata": {},
   "source": [
    "# Q16.Python program to find largest number in a list "
   ]
  },
  {
   "cell_type": "code",
   "execution_count": 9,
   "id": "734c9dda",
   "metadata": {},
   "outputs": [
    {
     "name": "stdout",
     "output_type": "stream",
     "text": [
      "Smallest element is: 99\n"
     ]
    }
   ],
   "source": [
    "# Python program to find largest\n",
    "# number in a list\n",
    "\n",
    "# list of numbers\n",
    "list1 = [10, 20, 1, 45, 99]\n",
    "\n",
    "\n",
    "# printing the minimum element\n",
    "print(\"Smallest element is:\", max(list1))"
   ]
  },
  {
   "cell_type": "markdown",
   "id": "05961a11",
   "metadata": {},
   "source": [
    "# Q17.Python program to find second largest number in a list "
   ]
  },
  {
   "cell_type": "code",
   "execution_count": 10,
   "id": "e43c23e2",
   "metadata": {},
   "outputs": [
    {
     "name": "stdout",
     "output_type": "stream",
     "text": [
      "Second largest element is: 45\n"
     ]
    }
   ],
   "source": [
    "# Python program to find largest number\n",
    "# in a list\n",
    "\n",
    "# List of numbers\n",
    "list1 = [10, 20, 20, 4, 45, 45, 45, 99, 99]\n",
    "\n",
    "# Removing duplicates from the list\n",
    "list2 = list(set(list1))\n",
    "\n",
    "# Sorting the list\n",
    "list2.sort()\n",
    "\n",
    "# Printing the second last element\n",
    "print(\"Second largest element is:\", list2[-2])\n"
   ]
  },
  {
   "cell_type": "markdown",
   "id": "341a7a59",
   "metadata": {},
   "source": [
    "# Q18.Python program to print even numbers in a list"
   ]
  },
  {
   "cell_type": "code",
   "execution_count": 11,
   "id": "1394a662",
   "metadata": {},
   "outputs": [
    {
     "name": "stdout",
     "output_type": "stream",
     "text": [
      "10 4 66 "
     ]
    }
   ],
   "source": [
    "\n",
    "list1 = [10, 21, 4, 45, 66, 93]\n",
    "\n",
    "\n",
    "for num in list1:\n",
    "\n",
    "    \n",
    "    if num % 2 == 0:\n",
    "        print(num, end=\" \")\n"
   ]
  },
  {
   "cell_type": "markdown",
   "id": "a3b4c81c",
   "metadata": {},
   "source": [
    "# Q19.Python program to print odd numbers in a List "
   ]
  },
  {
   "cell_type": "code",
   "execution_count": 14,
   "id": "47c52d95",
   "metadata": {},
   "outputs": [
    {
     "name": "stdout",
     "output_type": "stream",
     "text": [
      "21 45 93 11 "
     ]
    }
   ],
   "source": [
    "\n",
    "# Python program to print odd numbers in a List\n",
    "\n",
    "lst = [10, 21, 4, 45, 66, 93, 11]\n",
    "for i in lst:\n",
    "    if i % 2 == 0:\n",
    "        pass\n",
    "    else:\n",
    "        print(i, end=\" \")\n"
   ]
  },
  {
   "cell_type": "markdown",
   "id": "4b8a7859",
   "metadata": {},
   "source": [
    "# Q20.Python program to print all even numbers in a range"
   ]
  },
  {
   "cell_type": "code",
   "execution_count": 15,
   "id": "ceadf90b",
   "metadata": {},
   "outputs": [
    {
     "name": "stdout",
     "output_type": "stream",
     "text": [
      "4 6 8 10 12 14 "
     ]
    }
   ],
   "source": [
    "\n",
    "for even_numbers in range(4,15,2):\n",
    "    print(even_numbers,end=' ')\n",
    "\n"
   ]
  },
  {
   "cell_type": "markdown",
   "id": "f19c5f02",
   "metadata": {},
   "source": [
    "# Q21.Python program to print all odd numbers in a range "
   ]
  },
  {
   "cell_type": "code",
   "execution_count": 1,
   "id": "a1509376",
   "metadata": {},
   "outputs": [
    {
     "name": "stdout",
     "output_type": "stream",
     "text": [
      "5 7 9 11 13 15 17 19 "
     ]
    }
   ],
   "source": [
    "\n",
    "\n",
    "start, end = 4, 19\n",
    "\n",
    "\n",
    "for num in range(start, end + 1):\n",
    "\n",
    "    \n",
    "    if num % 2 != 0:\n",
    "        print(num, end = \" \")\n"
   ]
  },
  {
   "cell_type": "markdown",
   "id": "4b046090",
   "metadata": {},
   "source": [
    "# Q22.Python program to count Even and Odd numbers in a List "
   ]
  },
  {
   "cell_type": "code",
   "execution_count": 2,
   "id": "089fe763",
   "metadata": {},
   "outputs": [
    {
     "name": "stdout",
     "output_type": "stream",
     "text": [
      "Even numbers in the list:  3\n",
      "Odd numbers in the list:  4\n"
     ]
    }
   ],
   "source": [
    "\n",
    "list1 = [10, 21, 4, 45, 66, 93, 1]\n",
    "\n",
    "even_count, odd_count = 0, 0\n",
    "for num in list1:\n",
    "    if not num & 1:\n",
    "         even_count += 1\n",
    "\n",
    "    else:\n",
    "        odd_count += 1\n",
    "\n",
    "print(\"Even numbers in the list: \", even_count)\n",
    "print(\"Odd numbers in the list: \", odd_count)\n"
   ]
  },
  {
   "cell_type": "markdown",
   "id": "121de386",
   "metadata": {},
   "source": [
    "# Q23.Python program to print positive numbers in a list "
   ]
  },
  {
   "cell_type": "code",
   "execution_count": 3,
   "id": "c8bd0fc3",
   "metadata": {},
   "outputs": [
    {
     "name": "stdout",
     "output_type": "stream",
     "text": [
      "Positive numbers in the list:  [21, 4, 93]\n"
     ]
    }
   ],
   "source": [
    "\n",
    "list1 = [-10, 21, 4, -45, -66, 93, -11]\n",
    "\n",
    "import operator\n",
    "pos_nos = []\n",
    "for i in list1:\n",
    "    if operator.ge(i,0):\n",
    "        pos_nos.append(i)\n",
    "\n",
    "print(\"Positive numbers in the list: \", pos_nos)\n"
   ]
  },
  {
   "cell_type": "markdown",
   "id": "d0671efe",
   "metadata": {},
   "source": [
    "# Q24.Python program to print negative numbers in a list"
   ]
  },
  {
   "cell_type": "code",
   "execution_count": 15,
   "id": "37136d76",
   "metadata": {},
   "outputs": [
    {
     "name": "stdout",
     "output_type": "stream",
     "text": [
      "-10 -4 -45 -66 "
     ]
    }
   ],
   "source": [
    "\n",
    "list1 = [-10, 21, -4, -45, -66, 93]\n",
    "num = 0\n",
    "\n",
    "\n",
    "while(num < len(list1)):\n",
    "\n",
    "\n",
    "    if list1[num] < 0:\n",
    "        print(list1[num], end=\" \")\n",
    "\n",
    "\n",
    "    num += 1\n",
    "\n"
   ]
  },
  {
   "cell_type": "markdown",
   "id": "135baa3b",
   "metadata": {},
   "source": [
    "# Q25.Python program to print all positive numbers in a range "
   ]
  },
  {
   "cell_type": "code",
   "execution_count": 16,
   "id": "3cd80eb7",
   "metadata": {},
   "outputs": [
    {
     "name": "stdout",
     "output_type": "stream",
     "text": [
      "0 1 2 3 4 5 6 7 8 9 10 11 12 13 14 15 16 17 18 19 "
     ]
    }
   ],
   "source": [
    " \n",
    "\n",
    "start, end = -4, 19\n",
    "\n",
    " \n",
    "for num in range(start, end + 1): \n",
    " \n",
    "    if num >= 0: \n",
    "        print(num, end=\" \") \n"
   ]
  },
  {
   "cell_type": "markdown",
   "id": "35ce2fec",
   "metadata": {},
   "source": [
    "# Q26.Python program to print all negative numbers in a range "
   ]
  },
  {
   "cell_type": "code",
   "execution_count": 17,
   "id": "f9068f4c",
   "metadata": {},
   "outputs": [
    {
     "name": "stdout",
     "output_type": "stream",
     "text": [
      "-4 -3 -2 -1 "
     ]
    }
   ],
   "source": [
    "\n",
    "\n",
    "start, end = -4, 19\n",
    "\n",
    "\n",
    "for num in range(start, end + 1):\n",
    "    \n",
    "    if num < 0:\n",
    "        print(num, end = \" \")\n"
   ]
  },
  {
   "cell_type": "markdown",
   "id": "a16915b9",
   "metadata": {},
   "source": [
    "# Q27.Python program to count positive and negative numbers in a list "
   ]
  },
  {
   "cell_type": "code",
   "execution_count": 18,
   "id": "dc9d90d0",
   "metadata": {},
   "outputs": [
    {
     "name": "stdout",
     "output_type": "stream",
     "text": [
      "Positive numbers in the list:  4\n",
      "Negative numbers in the list:  3\n"
     ]
    }
   ],
   "source": [
    "\n",
    "list1 = [10, -21, 4, -45, 66, -93, 1]\n",
    "\n",
    "pos_count, neg_count = 0, 0\n",
    "\n",
    "\n",
    "for num in list1:\n",
    "\n",
    "    if num >= 0:\n",
    "        pos_count += 1\n",
    "\n",
    "    else:\n",
    "        neg_count += 1\n",
    "\n",
    "print(\"Positive numbers in the list: \", pos_count)\n",
    "print(\"Negative numbers in the list: \", neg_count)\n"
   ]
  },
  {
   "cell_type": "markdown",
   "id": "9c3ccc6b",
   "metadata": {},
   "source": [
    "# Q28.Remove multiple elements from a list in Python"
   ]
  },
  {
   "cell_type": "code",
   "execution_count": 19,
   "id": "4c98e230",
   "metadata": {},
   "outputs": [
    {
     "name": "stdout",
     "output_type": "stream",
     "text": [
      "New list after removing all even numbers:  [11, 5, 17, 23]\n"
     ]
    }
   ],
   "source": [
    "\n",
    "list1 = [11, 5, 17, 18, 23, 50] \n",
    "\n",
    "\n",
    "for ele in list1:\n",
    "    if ele % 2 == 0:\n",
    "        list1.remove(ele)\n",
    "\n",
    "\n",
    "print(\"New list after removing all even numbers: \", list1)\n"
   ]
  },
  {
   "cell_type": "markdown",
   "id": "15e825a8",
   "metadata": {},
   "source": [
    "# Q29.Python | Remove empty tuples from a list "
   ]
  },
  {
   "cell_type": "code",
   "execution_count": 20,
   "id": "a2a9edc8",
   "metadata": {},
   "outputs": [
    {
     "name": "stdout",
     "output_type": "stream",
     "text": [
      "[('mahesh', '15', '8'), ('adin', 'veeru'), ('muski', 'mussu', '45'), ('', '')]\n"
     ]
    }
   ],
   "source": [
    "\n",
    "def Remove(tuples):\n",
    "    tuples = [t for t in tuples if t]\n",
    "    return tuples\n",
    "\n",
    "\n",
    "tuples = [(), ('mahesh','15','8'), (), ('adin', 'veeru'), \n",
    "        ('muski', 'mussu', '45'), ('',''),()]\n",
    "print(Remove(tuples))\n"
   ]
  },
  {
   "cell_type": "markdown",
   "id": "f85f9afe",
   "metadata": {},
   "source": [
    "# Q30.Python | Program to print duplicates from a list of integers"
   ]
  },
  {
   "cell_type": "code",
   "execution_count": 21,
   "id": "4ed178cf",
   "metadata": {},
   "outputs": [
    {
     "name": "stdout",
     "output_type": "stream",
     "text": [
      "[20, 30, -20, 60]\n"
     ]
    }
   ],
   "source": [
    "\n",
    "def Repeat(x):\n",
    "    _size = len(x)\n",
    "    repeated = []\n",
    "    for i in range(_size):\n",
    "        k = i + 1\n",
    "        for j in range(k, _size):\n",
    "            if x[i] == x[j] and x[i] not in repeated:\n",
    "                repeated.append(x[i])\n",
    "    return repeated\n",
    "\n",
    "\n",
    "list1 = [10, 20, 30, 20, 20, 30, 40,50, -20, 60, 60, -20, -20]\n",
    "print (Repeat(list1))\n",
    "\n",
    "\n"
   ]
  },
  {
   "cell_type": "code",
   "execution_count": null,
   "id": "29f99d26",
   "metadata": {},
   "outputs": [],
   "source": []
  }
 ],
 "metadata": {
  "kernelspec": {
   "display_name": "Python 3 (ipykernel)",
   "language": "python",
   "name": "python3"
  },
  "language_info": {
   "codemirror_mode": {
    "name": "ipython",
    "version": 3
   },
   "file_extension": ".py",
   "mimetype": "text/x-python",
   "name": "python",
   "nbconvert_exporter": "python",
   "pygments_lexer": "ipython3",
   "version": "3.11.5"
  }
 },
 "nbformat": 4,
 "nbformat_minor": 5
}
